{
  "cells": [
    {
      "cell_type": "markdown",
      "metadata": {
        "id": "uzUC0FW72U1i"
      },
      "source": [
        "Credits: this notebook belongs to [Practical DL](https://docs.google.com/forms/d/e/1FAIpQLScvrVtuwrHSlxWqHnLt1V-_7h2eON_mlRR6MUb3xEe5x9LuoA/viewform?usp=sf_link) course by Yandex School of Data Analysis."
      ]
    },
    {
      "cell_type": "code",
      "execution_count": null,
      "metadata": {
        "colab": {
          "background_save": true
        },
        "id": "0RC3iObE2U1j"
      },
      "outputs": [],
      "source": [
        "import numpy as np"
      ]
    },
    {
      "cell_type": "markdown",
      "metadata": {
        "id": "Pd95H8DM2U1k"
      },
      "source": [
        "**Module** is an abstract class which defines fundamental methods necessary for a training a neural network. You do not need to change anything here, just read the comments."
      ]
    },
    {
      "cell_type": "code",
      "execution_count": null,
      "metadata": {
        "colab": {
          "background_save": true
        },
        "id": "0jsc8yl72U1k"
      },
      "outputs": [],
      "source": [
        "class Module(object):\n",
        "    \"\"\"\n",
        "    Basically, you can think of a module as of a something (black box)\n",
        "    which can process `input` data and produce `ouput` data.\n",
        "    This is like applying a function which is called `forward`:\n",
        "\n",
        "        output = module.forward(input)\n",
        "\n",
        "    The module should be able to perform a backward pass: to differentiate the `forward` function.\n",
        "    More, it should be able to differentiate it if is a part of chain (chain rule).\n",
        "    The latter implies there is a gradient from previous step of a chain rule.\n",
        "\n",
        "        gradInput = module.backward(input, gradOutput)\n",
        "    \"\"\"\n",
        "    def __init__ (self):\n",
        "        self.output = None\n",
        "        self.gradInput = None\n",
        "        self.training = True\n",
        "\n",
        "    def forward(self, input):\n",
        "        \"\"\"\n",
        "        Takes an input object, and computes the corresponding output of the module.\n",
        "        \"\"\"\n",
        "        return self.updateOutput(input)\n",
        "\n",
        "    def backward(self,input, gradOutput):\n",
        "        \"\"\"\n",
        "        Performs a backpropagation step through the module, with respect to the given input.\n",
        "\n",
        "        This includes\n",
        "         - computing a gradient w.r.t. `input` (is needed for further backprop),\n",
        "         - computing a gradient w.r.t. parameters (to update parameters while optimizing).\n",
        "        \"\"\"\n",
        "        self.updateGradInput(input, gradOutput)\n",
        "        self.accGradParameters(input, gradOutput)\n",
        "        return self.gradInput\n",
        "\n",
        "\n",
        "    def updateOutput(self, input):\n",
        "        \"\"\"\n",
        "        Computes the output using the current parameter set of the class and input.\n",
        "        This function returns the result which is stored in the `output` field.\n",
        "\n",
        "        Make sure to both store the data in `output` field and return it.\n",
        "        \"\"\"\n",
        "\n",
        "        # The easiest case:\n",
        "\n",
        "        # self.output = input\n",
        "        # return self.output\n",
        "\n",
        "        pass\n",
        "\n",
        "    def updateGradInput(self, input, gradOutput):\n",
        "        \"\"\"\n",
        "        Computing the gradient of the module with respect to its own input.\n",
        "        This is returned in `gradInput`. Also, the `gradInput` state variable is updated accordingly.\n",
        "\n",
        "        The shape of `gradInput` is always the same as the shape of `input`.\n",
        "\n",
        "        Make sure to both store the gradients in `gradInput` field and return it.\n",
        "        \"\"\"\n",
        "\n",
        "        # The easiest case:\n",
        "\n",
        "        # self.gradInput = gradOutput\n",
        "        # return self.gradInput\n",
        "\n",
        "        pass\n",
        "\n",
        "    def accGradParameters(self, input, gradOutput):\n",
        "        \"\"\"\n",
        "        Computing the gradient of the module with respect to its own parameters.\n",
        "        No need to override if module has no parameters (e.g. ReLU).\n",
        "        \"\"\"\n",
        "        pass\n",
        "\n",
        "    def zeroGradParameters(self):\n",
        "        \"\"\"\n",
        "        Zeroes `gradParams` variable if the module has params.\n",
        "        \"\"\"\n",
        "        pass\n",
        "\n",
        "    def getParameters(self):\n",
        "        \"\"\"\n",
        "        Returns a list with its parameters.\n",
        "        If the module does not have parameters return empty list.\n",
        "        \"\"\"\n",
        "        return []\n",
        "\n",
        "    def getGradParameters(self):\n",
        "        \"\"\"\n",
        "        Returns a list with gradients with respect to its parameters.\n",
        "        If the module does not have parameters return empty list.\n",
        "        \"\"\"\n",
        "        return []\n",
        "\n",
        "    def train(self):\n",
        "        \"\"\"\n",
        "        Sets training mode for the module.\n",
        "        Training and testing behaviour differs for Dropout, BatchNorm.\n",
        "        \"\"\"\n",
        "        self.training = True\n",
        "\n",
        "    def evaluate(self):\n",
        "        \"\"\"\n",
        "        Sets evaluation mode for the module.\n",
        "        Training and testing behaviour differs for Dropout, BatchNorm.\n",
        "        \"\"\"\n",
        "        self.training = False\n",
        "\n",
        "    def __repr__(self):\n",
        "        \"\"\"\n",
        "        Pretty printing. Should be overrided in every module if you want\n",
        "        to have readable description.\n",
        "        \"\"\"\n",
        "        return \"Module\""
      ]
    },
    {
      "cell_type": "markdown",
      "metadata": {
        "id": "fXPo-3b-2U1l"
      },
      "source": [
        "# Sequential container"
      ]
    },
    {
      "cell_type": "markdown",
      "metadata": {
        "id": "lyeRi3Dm2U1l"
      },
      "source": [
        "**Define** a forward and backward pass procedures."
      ]
    },
    {
      "cell_type": "code",
      "execution_count": null,
      "metadata": {
        "colab": {
          "background_save": true
        },
        "id": "7cleaHc72U1m"
      },
      "outputs": [],
      "source": [
        "class Sequential(Module):\n",
        "    \"\"\"\n",
        "         This class implements a container, which processes `input` data sequentially.\n",
        "\n",
        "         `input` is processed by each module (layer) in self.modules consecutively.\n",
        "         The resulting array is called `output`.\n",
        "    \"\"\"\n",
        "\n",
        "    def __init__ (self):\n",
        "        super(Sequential, self).__init__()\n",
        "        self.modules = []\n",
        "\n",
        "    def add(self, module):\n",
        "        \"\"\"\n",
        "        Adds a module to the container.\n",
        "        \"\"\"\n",
        "        self.modules.append(module)\n",
        "\n",
        "    def updateOutput(self, input):\n",
        "        \"\"\"\n",
        "        Basic workflow of FORWARD PASS:\n",
        "\n",
        "            y_0    = module[0].forward(input)\n",
        "            y_1    = module[1].forward(y_0)\n",
        "            ...\n",
        "            output = module[n-1].forward(y_{n-2})\n",
        "\n",
        "\n",
        "        Just write a little loop.\n",
        "        \"\"\"\n",
        "        self.output = input\n",
        "        for module in self.modules:\n",
        "            module.y = self.output\n",
        "            self.output = module.forward(self.output)\n",
        "        return self.output\n",
        "\n",
        "    def backward(self, input, gradOutput):\n",
        "        \"\"\"\n",
        "        Workflow of BACKWARD PASS:\n",
        "\n",
        "            g_{n-1} = module[n-1].backward(y_{n-2}, gradOutput)\n",
        "            g_{n-2} = module[n-2].backward(y_{n-3}, g_{n-1})\n",
        "            ...\n",
        "            g_1 = module[1].backward(y_0, g_2)\n",
        "            gradInput = module[0].backward(input, g_1)\n",
        "        \"\"\"\n",
        "        self.current_grad = gradOutput\n",
        "        for module in reversed(self.modules):\n",
        "            self.current_grad = module.backward(module.y, self.current_grad)\n",
        "        return self.current_grad\n",
        "\n",
        "\n",
        "\n",
        "    def zeroGradParameters(self):\n",
        "        for module in self.modules:\n",
        "            module.zeroGradParameters()\n",
        "\n",
        "    def getParameters(self):\n",
        "        \"\"\"\n",
        "        Should gather all parameters in a list.\n",
        "        \"\"\"\n",
        "        return [x.getParameters() for x in self.modules]\n",
        "\n",
        "    def getGradParameters(self):\n",
        "        \"\"\"\n",
        "        Should gather all gradients w.r.t parameters in a list.\n",
        "        \"\"\"\n",
        "        return [x.getGradParameters() for x in self.modules]\n",
        "\n",
        "    def __repr__(self):\n",
        "        string = \"\".join([str(x) + '\\n' for x in self.modules])\n",
        "        return string\n",
        "\n",
        "    def __getitem__(self,x):\n",
        "        return self.modules.__getitem__(x)\n",
        "\n",
        "    def train(self):\n",
        "        \"\"\"\n",
        "        Propagates training parameter through all modules\n",
        "        \"\"\"\n",
        "        self.training = True\n",
        "        for module in self.modules:\n",
        "            module.train()\n",
        "\n",
        "    def evaluate(self):\n",
        "        \"\"\"\n",
        "        Propagates training parameter through all modules\n",
        "        \"\"\"\n",
        "        self.training = False\n",
        "        for module in self.modules:\n",
        "            module.evaluate()"
      ]
    },
    {
      "cell_type": "markdown",
      "metadata": {
        "id": "k3q-74Lw2U1m"
      },
      "source": [
        "# Layers"
      ]
    },
    {
      "cell_type": "markdown",
      "metadata": {
        "id": "GNf4HnJP2U1m"
      },
      "source": [
        "## 1. Linear transform layer\n",
        "Also known as dense layer, fully-connected layer, FC-layer, InnerProductLayer (in caffe), affine transform\n",
        "- input:   **`batch_size x n_feats1`**\n",
        "- output: **`batch_size x n_feats2`**"
      ]
    },
    {
      "cell_type": "code",
      "execution_count": null,
      "metadata": {
        "colab": {
          "background_save": true
        },
        "id": "B8eZ_hHx2U1n"
      },
      "outputs": [],
      "source": [
        "class Linear(Module):\n",
        "    \"\"\"\n",
        "    A module which applies a linear transformation\n",
        "    A common name is fully-connected layer, InnerProductLayer in caffe.\n",
        "\n",
        "    The module should work with 2D input of shape (n_samples, n_feature).\n",
        "    \"\"\"\n",
        "    def __init__(self, n_in, n_out):\n",
        "        super(Linear, self).__init__()\n",
        "\n",
        "        # This is a nice initialization\n",
        "        stdv = 1./np.sqrt(n_in)\n",
        "        self.W = np.random.uniform(-stdv, stdv, size = (n_out, n_in))\n",
        "        self.b = np.random.uniform(-stdv, stdv, size = n_out)\n",
        "\n",
        "        self.gradW = np.zeros_like(self.W)\n",
        "        self.gradb = np.zeros_like(self.b)\n",
        "\n",
        "    def updateOutput(self, input):\n",
        "\n",
        "        self.output = np.dot(input, self.W.T) + self.b\n",
        "        return self.output\n",
        "\n",
        "    def updateGradInput(self, input, gradOutput):\n",
        "        self.gradInput = np.dot(gradOutput, self.W)\n",
        "        return self.gradInput\n",
        "\n",
        "    def accGradParameters(self, input, gradOutput):\n",
        "        self.gradW += np.dot(gradOutput.T, input)\n",
        "        self.gradb += np.sum(gradOutput, axis=0)\n",
        "        pass\n",
        "\n",
        "    def zeroGradParameters(self):\n",
        "        self.gradW.fill(0)\n",
        "        self.gradb.fill(0)\n",
        "\n",
        "    def getParameters(self):\n",
        "        return [self.W, self.b]\n",
        "\n",
        "    def getGradParameters(self):\n",
        "        return [self.gradW, self.gradb]\n",
        "\n",
        "    def __repr__(self):\n",
        "        s = self.W.shape\n",
        "        q = 'Linear %d -> %d' %(s[1],s[0])\n",
        "        return q"
      ]
    },
    {
      "cell_type": "markdown",
      "metadata": {
        "id": "FEWuEE_C2U1n"
      },
      "source": [
        "## 2. SoftMax\n",
        "- input:   **`batch_size x n_feats`**\n",
        "- output: **`batch_size x n_feats`**\n",
        "\n",
        "$\\text{softmax}(x)_i = \\frac{\\exp x_i} {\\sum_j \\exp x_j}$\n",
        "\n",
        "Recall that $\\text{softmax}(x) == \\text{softmax}(x - \\text{const})$. It makes possible to avoid computing exp() from large argument."
      ]
    },
    {
      "cell_type": "code",
      "execution_count": null,
      "metadata": {
        "colab": {
          "background_save": true
        },
        "collapsed": true,
        "id": "przVfKoV2U1o"
      },
      "outputs": [],
      "source": [
        "class SoftMax(Module):\n",
        "    def __init__(self):\n",
        "         super(SoftMax, self).__init__()\n",
        "\n",
        "    def updateOutput(self, input):\n",
        "        # start with normalization for numerical stability\n",
        "        self.output = np.subtract(input, input.max(axis=1, keepdims=True))\n",
        "        exp_output = np.exp(self.output)\n",
        "        self.output = exp_output / exp_output.sum(axis=1, keepdims=True)\n",
        "        return self.output\n",
        "\n",
        "    def updateGradInput(self, input, gradOutput):\n",
        "        gradInput = np.zeros_like(input)\n",
        "        for i, (softmax_out, grad_out) in enumerate(zip(self.output, gradOutput)):\n",
        "            softmax_jacobian = np.diag(softmax_out) - np.outer(softmax_out, softmax_out)\n",
        "            gradInput[i] = np.dot(softmax_jacobian, grad_out)\n",
        "        self.gradInput = gradInput\n",
        "        return self.gradInput\n",
        "\n",
        "    def __repr__(self):\n",
        "        return \"SoftMax\""
      ]
    },
    {
      "cell_type": "markdown",
      "metadata": {
        "id": "rwqCto1l2U1o"
      },
      "source": [
        "## 3. LogSoftMax\n",
        "- input:   **`batch_size x n_feats`**\n",
        "- output: **`batch_size x n_feats`**\n",
        "\n",
        "$\\text{logsoftmax}(x)_i = \\log\\text{softmax}(x)_i = x_i - \\log {\\sum_j \\exp x_j}$\n",
        "\n",
        "The main goal of this layer is to be used in computation of log-likelihood loss."
      ]
    },
    {
      "cell_type": "code",
      "execution_count": null,
      "metadata": {
        "colab": {
          "background_save": true
        },
        "collapsed": true,
        "id": "cCZkgHuw2U1o"
      },
      "outputs": [],
      "source": [
        "class LogSoftMax(Module):\n",
        "    def __init__(self):\n",
        "         super(LogSoftMax, self).__init__()\n",
        "\n",
        "    def updateOutput(self, input):\n",
        "        # start with normalization for numerical stability\n",
        "        self.output = np.subtract(input, input.max(axis=1, keepdims=True))\n",
        "\n",
        "        log_sum_exp = np.log(np.exp(self.output).sum(axis=1, keepdims=True))\n",
        "        self.output = self.output - log_sum_exp  # Subtract log-sum-exp for log-softmax\n",
        "        return self.output\n",
        "\n",
        "    def updateGradInput(self, input, gradOutput):\n",
        "\n",
        "        softmax_output = np.exp(self.output)\n",
        "        self.gradInput = gradOutput - softmax_output * gradOutput.sum(axis=1, keepdims=True)\n",
        "        return self.gradInput\n",
        "\n",
        "    def __repr__(self):\n",
        "        return \"LogSoftMax\""
      ]
    },
    {
      "cell_type": "markdown",
      "metadata": {
        "id": "uVxnF1F72U1p"
      },
      "source": [
        "## 4. Batch normalization\n",
        "One of the most significant recent ideas that impacted NNs a lot is [**Batch normalization**](http://arxiv.org/abs/1502.03167). The idea is simple, yet effective: the features should be whitened ($mean = 0$, $std = 1$) all the way through NN. This improves the convergence for deep models letting it train them for days but not weeks. **You are** to implement the first part of the layer: features normalization. The second part (`ChannelwiseScaling` layer) is implemented below.\n",
        "\n",
        "- input:   **`batch_size x n_feats`**\n",
        "- output: **`batch_size x n_feats`**\n",
        "\n",
        "The layer should work as follows. While training (`self.training == True`) it transforms input as $$y = \\frac{x - \\mu}  {\\sqrt{\\sigma + \\epsilon}}$$\n",
        "where $\\mu$ and $\\sigma$ - mean and variance of feature values in **batch** and $\\epsilon$ is just a small number for numericall stability. Also during training, layer should maintain exponential moving average values for mean and variance:\n",
        "```\n",
        "    self.moving_mean = self.moving_mean * alpha + batch_mean * (1 - alpha)\n",
        "    self.moving_variance = self.moving_variance * alpha + batch_variance * (1 - alpha)\n",
        "```\n",
        "During testing (`self.training == False`) the layer normalizes input using moving_mean and moving_variance.\n",
        "\n",
        "Note that decomposition of batch normalization on normalization itself and channelwise scaling here is just a common **implementation** choice. In general \"batch normalization\" always assumes normalization + scaling."
      ]
    },
    {
      "cell_type": "code",
      "execution_count": null,
      "metadata": {
        "colab": {
          "background_save": true
        },
        "collapsed": true,
        "id": "rB73VjN92U1p"
      },
      "outputs": [],
      "source": [
        "class BatchNormalization(Module):\n",
        "    EPS = 1e-3\n",
        "    def __init__(self, alpha = 0.):\n",
        "        super(BatchNormalization, self).__init__()\n",
        "        self.alpha = alpha\n",
        "        self.moving_mean = None\n",
        "        self.moving_variance = None\n",
        "\n",
        "    def updateOutput(self, input):\n",
        "        if self.training:\n",
        "            batch_mean = np.mean(input, axis=0)\n",
        "            batch_variance = np.var(input, axis=0)\n",
        "            self.normalized_input = (input - batch_mean) / np.sqrt(batch_variance + self.EPS)\n",
        "            self.output = self.normalized_input\n",
        "            if self.moving_mean is None:\n",
        "                self.moving_mean = batch_mean\n",
        "                self.moving_variance = batch_variance\n",
        "            else:\n",
        "                self.moving_mean = self.moving_mean * self.alpha + batch_mean * (1 - self.alpha)\n",
        "                self.moving_variance = self.moving_variance * self.alpha + batch_variance * (1 - self.alpha)\n",
        "        else:\n",
        "            self.output = (input - self.moving_mean) / np.sqrt(self.moving_variance + self.EPS)\n",
        "\n",
        "        return self.output\n",
        "\n",
        "    def updateGradInput(self, input, gradOutput):\n",
        "        if self.training:\n",
        "            batch_mean = np.mean(input, axis=0)\n",
        "            batch_variance = np.var(input, axis=0)\n",
        "            m = input.shape[0]\n",
        "            grad_normalized = gradOutput / np.sqrt(batch_variance + self.EPS)\n",
        "            grad_variance = np.sum(gradOutput * (input - batch_mean) * -0.5 * (batch_variance + self.EPS) ** -1.5, axis=0)\n",
        "            grad_mean = np.sum(gradOutput * -1 / np.sqrt(batch_variance + self.EPS), axis=0) + grad_variance * np.mean(-2 * (input - batch_mean), axis=0)\n",
        "            self.gradInput = grad_normalized + grad_variance * 2 * (input - batch_mean) / m + grad_mean / m\n",
        "        else:\n",
        "            self.gradInput = gradOutput / np.sqrt(self.moving_variance + self.EPS)\n",
        "\n",
        "        return self.gradInput\n",
        "\n",
        "    def __repr__(self):\n",
        "        return \"BatchNormalization\""
      ]
    },
    {
      "cell_type": "code",
      "execution_count": null,
      "metadata": {
        "colab": {
          "background_save": true
        },
        "collapsed": true,
        "id": "A2QBfc4A2U1p"
      },
      "outputs": [],
      "source": [
        "class ChannelwiseScaling(Module):\n",
        "    \"\"\"\n",
        "       Implements linear transform of input y = \\gamma * x + \\beta\n",
        "       where \\gamma, \\beta - learnable vectors of length x.shape[-1]\n",
        "    \"\"\"\n",
        "    def __init__(self, n_out):\n",
        "        super(ChannelwiseScaling, self).__init__()\n",
        "\n",
        "        stdv = 1./np.sqrt(n_out)\n",
        "        self.gamma = np.random.uniform(-stdv, stdv, size=n_out)\n",
        "        self.beta = np.random.uniform(-stdv, stdv, size=n_out)\n",
        "\n",
        "        self.gradGamma = np.zeros_like(self.gamma)\n",
        "        self.gradBeta = np.zeros_like(self.beta)\n",
        "\n",
        "    def updateOutput(self, input):\n",
        "        self.output = input * self.gamma + self.beta\n",
        "        return self.output\n",
        "\n",
        "    def updateGradInput(self, input, gradOutput):\n",
        "        self.gradInput = gradOutput * self.gamma\n",
        "        return self.gradInput\n",
        "\n",
        "    def accGradParameters(self, input, gradOutput):\n",
        "        self.gradBeta = np.sum(gradOutput, axis=0)\n",
        "        self.gradGamma = np.sum(gradOutput*input, axis=0)\n",
        "\n",
        "    def zeroGradParameters(self):\n",
        "        self.gradGamma.fill(0)\n",
        "        self.gradBeta.fill(0)\n",
        "\n",
        "    def getParameters(self):\n",
        "        return [self.gamma, self.beta]\n",
        "\n",
        "    def getGradParameters(self):\n",
        "        return [self.gradGamma, self.gradBeta]\n",
        "\n",
        "    def __repr__(self):\n",
        "        return \"ChannelwiseScaling\""
      ]
    },
    {
      "cell_type": "markdown",
      "metadata": {
        "id": "VgFzweUt2U1p"
      },
      "source": [
        "Practical notes. If BatchNormalization is placed after a linear transformation layer (including dense layer, convolutions, channelwise scaling) that implements function like `y = weight * x + bias`, than bias adding become useless and could be omitted since its effect will be discarded while batch mean subtraction. If BatchNormalization (followed by `ChannelwiseScaling`) is placed before a layer that propagates scale (including ReLU, LeakyReLU) followed by any linear transformation layer than parameter `gamma` in `ChannelwiseScaling` could be freezed since it could be absorbed into the linear transformation layer."
      ]
    },
    {
      "cell_type": "markdown",
      "metadata": {
        "id": "fxuS6uyF2U1p"
      },
      "source": [
        "## 5. Dropout\n",
        "Implement [**dropout**](https://www.cs.toronto.edu/~hinton/absps/JMLRdropout.pdf). The idea and implementation is really simple: just multimply the input by $Bernoulli(p)$ mask. Here $p$ is probability of an element to be zeroed.\n",
        "\n",
        "This has proven to be an effective technique for regularization and preventing the co-adaptation of neurons.\n",
        "\n",
        "While training (`self.training == True`) it should sample a mask on each iteration (for every batch), zero out elements and multiply elements by $1 / (1 - p)$. The latter is needed for keeping mean values of features close to mean values which will be in test mode. When testing this module should implement identity transform i.e. `self.output = input`.\n",
        "\n",
        "- input:   **`batch_size x n_feats`**\n",
        "- output: **`batch_size x n_feats`**"
      ]
    },
    {
      "cell_type": "code",
      "execution_count": null,
      "metadata": {
        "colab": {
          "background_save": true
        },
        "id": "VNNlsXfJ2U1p"
      },
      "outputs": [],
      "source": [
        "class Dropout(Module):\n",
        "    def __init__(self, p=0.5):\n",
        "        super(Dropout, self).__init__()\n",
        "\n",
        "        self.p = p\n",
        "        self.mask = None\n",
        "\n",
        "    def updateOutput(self, input):\n",
        "        if self.training:\n",
        "            self.mask = (np.random.rand(*input.shape) > self.p).astype(input.dtype)\n",
        "            self.output = input * self.mask / (1 - self.p)\n",
        "        else:\n",
        "            self.output = input\n",
        "        return self.output\n",
        "\n",
        "    def updateGradInput(self, input, gradOutput):\n",
        "        self.gradInput = gradOutput * self.mask / (1 - self.p) if self.training else gradOutput\n",
        "        return self.gradInput\n",
        "\n",
        "    def __repr__(self):\n",
        "        return \"Dropout\""
      ]
    },
    {
      "cell_type": "markdown",
      "metadata": {
        "id": "zK7xe8Mz2U1q"
      },
      "source": [
        "# Activation functions"
      ]
    },
    {
      "cell_type": "markdown",
      "metadata": {
        "id": "7mFf7h7k2U1q"
      },
      "source": [
        "Here's the complete example for the **Rectified Linear Unit** non-linearity (aka **ReLU**):"
      ]
    },
    {
      "cell_type": "code",
      "execution_count": null,
      "metadata": {
        "colab": {
          "background_save": true
        },
        "collapsed": true,
        "id": "cQoKp8nU2U1q"
      },
      "outputs": [],
      "source": [
        "class ReLU(Module):\n",
        "    def __init__(self):\n",
        "         super(ReLU, self).__init__()\n",
        "\n",
        "    def updateOutput(self, input):\n",
        "        self.output = np.maximum(input, 0)\n",
        "        return self.output\n",
        "\n",
        "    def updateGradInput(self, input, gradOutput):\n",
        "        self.gradInput = np.multiply(gradOutput , input > 0)\n",
        "        return self.gradInput\n",
        "\n",
        "    def __repr__(self):\n",
        "        return \"ReLU\""
      ]
    },
    {
      "cell_type": "markdown",
      "metadata": {
        "id": "1_jzDyds2U1q"
      },
      "source": [
        "## 6. Leaky ReLU\n",
        "Implement [**Leaky Rectified Linear Unit**](http://en.wikipedia.org/wiki%2FRectifier_%28neural_networks%29%23Leaky_ReLUs). Expriment with slope."
      ]
    },
    {
      "cell_type": "code",
      "execution_count": null,
      "metadata": {
        "colab": {
          "background_save": true
        },
        "id": "g83aYd2v2U1q"
      },
      "outputs": [],
      "source": [
        "class LeakyReLU(Module):\n",
        "    def __init__(self, slope = 0.03):\n",
        "        super(LeakyReLU, self).__init__()\n",
        "\n",
        "        self.slope = slope\n",
        "\n",
        "    def updateOutput(self, input):\n",
        "        self.output = np.where(input > 0, input, input * self.slope)\n",
        "        return self.output\n",
        "\n",
        "    def updateGradInput(self, input, gradOutput):\n",
        "        self.gradInput = gradOutput * np.where(input > 0, 1, self.slope)\n",
        "        return self.gradInput\n",
        "\n",
        "    def __repr__(self):\n",
        "        return \"LeakyReLU\""
      ]
    },
    {
      "cell_type": "markdown",
      "metadata": {
        "id": "5lajJog82U1q"
      },
      "source": [
        "## 7. ELU\n",
        "Implement [**Exponential Linear Units**](http://arxiv.org/abs/1511.07289) activations."
      ]
    },
    {
      "cell_type": "code",
      "execution_count": null,
      "metadata": {
        "colab": {
          "background_save": true
        },
        "collapsed": true,
        "id": "DlDfWGYN2U1q"
      },
      "outputs": [],
      "source": [
        "class ELU(Module):\n",
        "    def __init__(self, alpha = 1.0):\n",
        "        super(ELU, self).__init__()\n",
        "\n",
        "        self.alpha = alpha\n",
        "\n",
        "    def updateOutput(self, input):\n",
        "        self.output = np.where(input > 0, input, self.alpha * (np.exp(input) - 1))\n",
        "        return self.output\n",
        "\n",
        "    def updateGradInput(self, input, gradOutput):\n",
        "        self.gradInput = gradOutput * np.where(input > 0, 1, self.alpha * np.exp(input))\n",
        "        return self.gradInput\n",
        "\n",
        "    def __repr__(self):\n",
        "        return \"ELU\""
      ]
    },
    {
      "cell_type": "markdown",
      "metadata": {
        "id": "PWeRkxge2U1r"
      },
      "source": [
        "## 8. SoftPlus\n",
        "Implement [**SoftPlus**](https://en.wikipedia.org/wiki%2FRectifier_%28neural_networks%29) activations. Look, how they look a lot like ReLU."
      ]
    },
    {
      "cell_type": "code",
      "execution_count": null,
      "metadata": {
        "colab": {
          "background_save": true
        },
        "collapsed": true,
        "id": "MYgtUaxa2U1r"
      },
      "outputs": [],
      "source": [
        "class SoftPlus(Module):\n",
        "    def __init__(self):\n",
        "        super(SoftPlus, self).__init__()\n",
        "\n",
        "    def updateOutput(self, input):\n",
        "        self.output = np.log(1 + np.exp(input))\n",
        "        return self.output\n",
        "\n",
        "    def updateGradInput(self, input, gradOutput):\n",
        "        self.gradInput = gradOutput * (1 / (1 + np.exp(-input)))\n",
        "        return self.gradInput\n",
        "\n",
        "    def __repr__(self):\n",
        "        return \"SoftPlus\""
      ]
    },
    {
      "cell_type": "markdown",
      "metadata": {
        "id": "us78PHPu2U1r"
      },
      "source": [
        "# Criterions"
      ]
    },
    {
      "cell_type": "markdown",
      "metadata": {
        "id": "CWCePGYk2U1r"
      },
      "source": [
        "Criterions are used to score the models answers."
      ]
    },
    {
      "cell_type": "code",
      "execution_count": null,
      "metadata": {
        "colab": {
          "background_save": true
        },
        "id": "2MXKhPAM2U1r"
      },
      "outputs": [],
      "source": [
        "class Criterion(object):\n",
        "    def __init__ (self):\n",
        "        self.output = None\n",
        "        self.gradInput = None\n",
        "\n",
        "    def forward(self, input, target):\n",
        "        \"\"\"\n",
        "            Given an input and a target, compute the loss function\n",
        "            associated to the criterion and return the result.\n",
        "\n",
        "            For consistency this function should not be overrided,\n",
        "            all the code goes in `updateOutput`.\n",
        "        \"\"\"\n",
        "        return self.updateOutput(input, target)\n",
        "\n",
        "    def backward(self, input, target):\n",
        "        \"\"\"\n",
        "            Given an input and a target, compute the gradients of the loss function\n",
        "            associated to the criterion and return the result.\n",
        "\n",
        "            For consistency this function should not be overrided,\n",
        "            all the code goes in `updateGradInput`.\n",
        "        \"\"\"\n",
        "        return self.updateGradInput(input, target)\n",
        "\n",
        "    def updateOutput(self, input, target):\n",
        "        \"\"\"\n",
        "        Function to override.\n",
        "        \"\"\"\n",
        "        return self.output\n",
        "\n",
        "    def updateGradInput(self, input, target):\n",
        "        \"\"\"\n",
        "        Function to override.\n",
        "        \"\"\"\n",
        "        return self.gradInput\n",
        "\n",
        "    def __repr__(self):\n",
        "        \"\"\"\n",
        "        Pretty printing. Should be overrided in every module if you want\n",
        "        to have readable description.\n",
        "        \"\"\"\n",
        "        return \"Criterion\""
      ]
    },
    {
      "cell_type": "markdown",
      "metadata": {
        "id": "FvE33Qe52U1r"
      },
      "source": [
        "The **MSECriterion**, which is basic L2 norm usually used for regression, is implemented here for you.\n",
        "- input:   **`batch_size x n_feats`**\n",
        "- target: **`batch_size x n_feats`**\n",
        "- output: **scalar**"
      ]
    },
    {
      "cell_type": "code",
      "execution_count": null,
      "metadata": {
        "colab": {
          "background_save": true
        },
        "id": "BD_RyNMv2U1s"
      },
      "outputs": [],
      "source": [
        "class MSECriterion(Criterion):\n",
        "    def __init__(self):\n",
        "        super(MSECriterion, self).__init__()\n",
        "\n",
        "    def updateOutput(self, input, target):\n",
        "        self.output = np.sum(np.power(input - target,2)) / input.shape[0]\n",
        "        return self.output\n",
        "\n",
        "    def updateGradInput(self, input, target):\n",
        "        self.gradInput  = (input - target) * 2 / input.shape[0]\n",
        "        return self.gradInput\n",
        "\n",
        "    def __repr__(self):\n",
        "        return \"MSECriterion\""
      ]
    },
    {
      "cell_type": "markdown",
      "metadata": {
        "id": "pr0Vdp_o2U1s"
      },
      "source": [
        "## 9. Negative LogLikelihood criterion (numerically unstable)\n",
        "You task is to implement the **ClassNLLCriterion**. It should implement [multiclass log loss](http://scikit-learn.org/stable/modules/model_evaluation.html#log-loss). Nevertheless there is a sum over `y` (target) in that formula,\n",
        "remember that targets are one-hot encoded. This fact simplifies the computations a lot. Note, that criterions are the only places, where you divide by batch size. Also there is a small hack with adding small number to probabilities to avoid computing log(0).\n",
        "- input:   **`batch_size x n_feats`** - probabilities\n",
        "- target: **`batch_size x n_feats`** - one-hot representation of ground truth\n",
        "- output: **scalar**\n",
        "\n"
      ]
    },
    {
      "cell_type": "code",
      "execution_count": null,
      "metadata": {
        "colab": {
          "background_save": true
        },
        "id": "S5_Jq6mW2U1s"
      },
      "outputs": [],
      "source": [
        "class ClassNLLCriterionUnstable(Criterion):\n",
        "    EPS = 1e-15\n",
        "    def __init__(self):\n",
        "        a = super(ClassNLLCriterionUnstable, self)\n",
        "        super(ClassNLLCriterionUnstable, self).__init__()\n",
        "\n",
        "    def updateOutput(self, input, target):\n",
        "\n",
        "        # Use this trick to avoid numerical errors\n",
        "        input_clamp = np.clip(input, self.EPS, 1 - self.EPS)\n",
        "\n",
        "        log_probs = -np.log(input_clamp)\n",
        "        self.output = np.sum(log_probs * target) / input.shape[0]\n",
        "\n",
        "        return self.output\n",
        "\n",
        "    def updateGradInput(self, input, target):\n",
        "\n",
        "        # Use this trick to avoid numerical errors\n",
        "        input_clamp = np.clip(input, self.EPS, 1 - self.EPS)\n",
        "\n",
        "        self.gradInput = -target / input_clamp\n",
        "        self.gradInput /= input.shape[0]\n",
        "\n",
        "        return self.gradInput\n",
        "\n",
        "    def __repr__(self):\n",
        "        return \"ClassNLLCriterionUnstable\""
      ]
    },
    {
      "cell_type": "markdown",
      "metadata": {
        "id": "62hVsn7Y2U1s"
      },
      "source": [
        "## 10. Negative LogLikelihood criterion (numerically stable)\n",
        "- input:   **`batch_size x n_feats`** - log probabilities\n",
        "- target: **`batch_size x n_feats`** - one-hot representation of ground truth\n",
        "- output: **scalar**\n",
        "\n",
        "Task is similar to the previous one, but now the criterion input is the output of log-softmax layer. This decomposition allows us to avoid problems with computation of forward and backward of log()."
      ]
    },
    {
      "cell_type": "code",
      "execution_count": null,
      "metadata": {
        "colab": {
          "background_save": true
        },
        "collapsed": true,
        "id": "XCPKOP_r2U1s"
      },
      "outputs": [],
      "source": [
        "class ClassNLLCriterion(Criterion):\n",
        "    def __init__(self):\n",
        "        a = super(ClassNLLCriterion, self)\n",
        "        super(ClassNLLCriterion, self).__init__()\n",
        "\n",
        "    def updateOutput(self, input, target):\n",
        "\n",
        "\n",
        "        assert input.shape == target.shape\n",
        "\n",
        "        batch_size = input.shape[0]\n",
        "        self.output = -np.sum(target * input) / batch_size\n",
        "\n",
        "        return self.output\n",
        "\n",
        "    def updateGradInput(self, input, target):\n",
        "\n",
        "        assert input.shape == target.shape\n",
        "        batch_size = input.shape[0]\n",
        "        self.gradInput = -target / batch_size\n",
        "\n",
        "        return self.gradInput\n",
        "\n",
        "    def __repr__(self):\n",
        "        return \"ClassNLLCriterion\""
      ]
    },
    {
      "cell_type": "markdown",
      "metadata": {
        "id": "MWWZYj_42U1s"
      },
      "source": [
        "# Optimizers"
      ]
    },
    {
      "cell_type": "markdown",
      "metadata": {
        "id": "tes3VK3o2U1t"
      },
      "source": [
        "### SGD optimizer with momentum\n",
        "- `variables` - list of lists of variables (one list per layer)\n",
        "- `gradients` - list of lists of current gradients (same structure as for `variables`, one array for each var)\n",
        "- `config` - dict with optimization parameters (`learning_rate` and `momentum`)\n",
        "- `state` - dict with optimizator state (used to save accumulated gradients)"
      ]
    },
    {
      "cell_type": "code",
      "execution_count": null,
      "metadata": {
        "colab": {
          "background_save": true
        },
        "id": "iAsTWK2w2U1t"
      },
      "outputs": [],
      "source": [
        "def sgd_momentum(variables, gradients, config, state):\n",
        "    # 'variables' and 'gradients' have complex structure, accumulated_grads will be stored in a simpler one\n",
        "    state.setdefault('accumulated_grads', {})\n",
        "\n",
        "    var_index = 0\n",
        "    for current_layer_vars, current_layer_grads in zip(variables, gradients):\n",
        "        for current_var, current_grad in zip(current_layer_vars, current_layer_grads):\n",
        "\n",
        "            old_grad = state['accumulated_grads'].setdefault(var_index, np.zeros_like(current_grad))\n",
        "\n",
        "            np.add(config['momentum'] * old_grad, config['learning_rate'] * current_grad, out=old_grad)\n",
        "\n",
        "            current_var -= old_grad\n",
        "            var_index += 1"
      ]
    },
    {
      "cell_type": "markdown",
      "metadata": {
        "id": "ucr1kIQE2U1t"
      },
      "source": [
        "## 11. [Adam](https://arxiv.org/pdf/1412.6980.pdf) optimizer\n",
        "- `variables` - list of lists of variables (one list per layer)\n",
        "- `gradients` - list of lists of current gradients (same structure as for `variables`, one array for each var)\n",
        "- `config` - dict with optimization parameters (`learning_rate`, `beta1`, `beta2`, `epsilon`)\n",
        "- `state` - dict with optimizator state (used to save 1st and 2nd moment for vars)\n",
        "\n",
        "Formulas for optimizer:\n",
        "\n",
        "Current step learning rate: $$\\text{lr}_t = \\text{learning_rate} * \\frac{\\sqrt{1-\\beta_2^t}} {1-\\beta_1^t}$$\n",
        "First moment of var: $$\\mu_t = \\beta_1 * \\mu_{t-1} + (1 - \\beta_1)*g$$\n",
        "Second moment of var: $$v_t = \\beta_2 * v_{t-1} + (1 - \\beta_2)*g*g$$\n",
        "New values of var: $$\\text{variable} = \\text{variable} - \\text{lr}_t * \\frac{m_t}{\\sqrt{v_t} + \\epsilon}$$"
      ]
    },
    {
      "cell_type": "code",
      "execution_count": null,
      "metadata": {
        "colab": {
          "background_save": true
        },
        "id": "GhgIL1102U1t"
      },
      "outputs": [],
      "source": [
        "def adam_optimizer(variables, gradients, config, state):\n",
        "    # 'variables' and 'gradients' have complex structure, accumulated_grads will be stored in a simpler one\n",
        "    state.setdefault('m', {})  # first moment vars\n",
        "    state.setdefault('v', {})  # second moment vars\n",
        "    state.setdefault('t', 0)   # timestamp\n",
        "    state['t'] += 1\n",
        "    for k in ['learning_rate', 'beta1', 'beta2', 'epsilon']:\n",
        "        assert k in config, config.keys()\n",
        "\n",
        "    var_index = 0\n",
        "    lr_t = config['learning_rate'] * np.sqrt(1 - config['beta2']**state['t']) / (1 - config['beta1']**state['t'])\n",
        "    for current_layer_vars, current_layer_grads in zip(variables, gradients):\n",
        "        for current_var, current_grad in zip(current_layer_vars, current_layer_grads):\n",
        "            var_first_moment = state['m'].setdefault(var_index, np.zeros_like(current_grad))\n",
        "            var_second_moment = state['v'].setdefault(var_index, np.zeros_like(current_grad))\n",
        "\n",
        "            # Update the first moment (μ_t)\n",
        "            np.add(config['beta1'] * var_first_moment, (1 - config['beta1']) * current_grad, out=var_first_moment)\n",
        "\n",
        "            # Update the second moment (v_t)\n",
        "            np.add(config['beta2'] * var_second_moment, (1 - config['beta2']) * np.multiply(current_grad, current_grad), out=var_second_moment)\n",
        "\n",
        "            # Update the variable (current_var)\n",
        "            current_var -= lr_t * var_first_moment / (np.sqrt(var_second_moment) + config['epsilon'])\n",
        "\n",
        "            # small checks that you've updated the state; use np.add for rewriting np.arrays values\n",
        "            assert var_first_moment is state['m'].get(var_index)\n",
        "            assert var_second_moment is state['v'].get(var_index)\n",
        "            var_index += 1"
      ]
    },
    {
      "cell_type": "markdown",
      "metadata": {
        "id": "G6qEp3JF2U1t"
      },
      "source": [
        "# Layers for advanced track homework\n",
        "You **don't need** to implement it if you are working on `homework_main-basic.ipynb`"
      ]
    },
    {
      "cell_type": "markdown",
      "metadata": {
        "id": "FVDOjrzn2U1t"
      },
      "source": [
        "## 12. Conv2d [Advanced]\n",
        "- input:   **`batch_size x in_channels x h x w`**\n",
        "- output: **`batch_size x out_channels x h x w`**\n",
        "\n",
        "You should implement something like pytorch `Conv2d` layer with `stride=1` and zero-padding outside of image using `scipy.signal.correlate` function.\n",
        "\n",
        "Practical notes:\n",
        "- While the layer name is \"convolution\", the most of neural network frameworks (including tensorflow and pytorch) implement operation that is called [correlation](https://en.wikipedia.org/wiki/Cross-correlation#Cross-correlation_of_deterministic_signals) in signal processing theory. So **don't use** `scipy.signal.convolve` since it implements [convolution](https://en.wikipedia.org/wiki/Convolution#Discrete_convolution) in terms of signal processing.\n",
        "- It may be convenient to use `skimage.util.pad` for zero-padding.\n",
        "- It's rather ok to implement convolution over 4d array using 2 nested loops: one over batch size dimension and another one over output filters dimension\n",
        "- Having troubles with understanding how to implement the layer?\n",
        " - Check the last year video of lecture 3 (starting from ~1:14:20)\n",
        " - May the google be with you"
      ]
    },
    {
      "cell_type": "code",
      "execution_count": null,
      "metadata": {
        "colab": {
          "background_save": true
        },
        "id": "qA7uzQI62U1u"
      },
      "outputs": [],
      "source": [
        "import scipy as sp\n",
        "import scipy.signal\n",
        "import skimage\n",
        "\n",
        "class Conv2d(Module):\n",
        "    def __init__(self, in_channels, out_channels, kernel_size):\n",
        "        super(Conv2d, self).__init__()\n",
        "        assert kernel_size % 2 == 1, kernel_size\n",
        "\n",
        "        stdv = 1./np.sqrt(in_channels)\n",
        "        self.W = np.random.uniform(-stdv, stdv, size = (out_channels, in_channels, kernel_size, kernel_size))\n",
        "        self.b = np.random.uniform(-stdv, stdv, size=(out_channels,))\n",
        "        self.in_channels = in_channels\n",
        "        self.out_channels = out_channels\n",
        "        self.kernel_size = kernel_size\n",
        "\n",
        "        self.gradW = np.zeros_like(self.W)\n",
        "        self.gradb = np.zeros_like(self.b)\n",
        "\n",
        "    def updateOutput(self, input):\n",
        "        pad_size = self.kernel_size // 2\n",
        "\n",
        "        input_padded = skimage.util.pad(input, ((0, 0), (0, 0), (pad_size, pad_size), (pad_size, pad_size)), mode='constant')\n",
        "\n",
        "        batch_size, in_channels, h, w = input.shape\n",
        "        out_h = h\n",
        "        out_w = w\n",
        "        self.output = np.zeros((batch_size, self.out_channels, out_h, out_w))\n",
        "\n",
        "        for b in range(batch_size):\n",
        "            for out_c in range(self.out_channels):\n",
        "                for in_c in range(self.in_channels):\n",
        "                    self.output[b, out_c, :, :] += scipy.signal.correlate(input_padded[b, in_c], self.W[out_c, in_c], mode='valid')\n",
        "\n",
        "                self.output[b, out_c, :, :] += self.b[out_c]\n",
        "        # 1. zero-pad the input array\n",
        "        # 2. compute convolution using scipy.signal.correlate(... , mode='valid')\n",
        "        # 3. add bias value\n",
        "\n",
        "        # self.output = ...\n",
        "\n",
        "\n",
        "        return self.output\n",
        "\n",
        "    def updateGradInput(self, input, gradOutput):\n",
        "        pad_size = self.kernel_size // 2\n",
        "\n",
        "        gradOutput_padded = skimage.util.pad(gradOutput, ((0, 0), (0, 0), (pad_size, pad_size), (pad_size, pad_size)), mode='constant')\n",
        "\n",
        "        self.gradInput = np.zeros_like(input)\n",
        "\n",
        "        for b in range(input.shape[0]):\n",
        "            for in_c in range(self.in_channels):\n",
        "                for out_c in range(self.out_channels):\n",
        "                  rotated_kernel = np.rot90(self.W[out_c, in_c], 2)\n",
        "\n",
        "                  self.gradInput[b, in_c] += scipy.signal.correlate(\n",
        "                      gradOutput_padded[b, out_c], rotated_kernel, mode='valid')\n",
        "        # 1. zero-pad the gradOutput\n",
        "        # 2. compute 'self.gradInput' value using scipy.signal.correlate(... , mode='valid')\n",
        "\n",
        "        # self.gradInput = ...\n",
        "\n",
        "        return self.gradInput\n",
        "\n",
        "    def accGradParameters(self, input, gradOutput):\n",
        "        pad_size = self.kernel_size // 2\n",
        "\n",
        "        input_padded = skimage.util.pad(input, ((0, 0), (0, 0), (pad_size, pad_size), (pad_size, pad_size)), mode='constant')\n",
        "\n",
        "        gradOutput_padded = skimage.util.pad(gradOutput, ((0, 0), (0, 0), (pad_size, pad_size), (pad_size, pad_size)), mode='constant')\n",
        "\n",
        "        self.gradW.fill(0)\n",
        "        self.gradb.fill(0)\n",
        "\n",
        "        for b in range(input.shape[0]):\n",
        "            for out_c in range(self.out_channels):\n",
        "                for in_c in range(self.in_channels):\n",
        "                    self.gradW[out_c, in_c] += scipy.signal.correlate(input_padded[b, in_c], gradOutput_padded[b, out_c], mode='valid')\n",
        "                self.gradb[out_c] += np.sum(gradOutput[b, out_c], axis=(0, 1))\n",
        "\n",
        "        # 1. zero-pad the input\n",
        "        # 2. compute 'self.gradW' using scipy.signal.correlate(... , mode='valid')\n",
        "        # 3. compute 'self.gradb' - formulas like in Linear of ChannelwiseScaling layers\n",
        "\n",
        "        # self.gradW = ...\n",
        "        # self.gradb = ...\n",
        "        pass\n",
        "\n",
        "    def zeroGradParameters(self):\n",
        "        self.gradW.fill(0)\n",
        "        self.gradb.fill(0)\n",
        "\n",
        "    def getParameters(self):\n",
        "        return [self.W, self.b]\n",
        "\n",
        "    def getGradParameters(self):\n",
        "        return [self.gradW, self.gradb]\n",
        "\n",
        "    def __repr__(self):\n",
        "        s = self.W.shape\n",
        "        q = 'Conv2d %d -> %d' %(s[1],s[0])\n",
        "        return q"
      ]
    },
    {
      "cell_type": "markdown",
      "metadata": {
        "id": "Hc8uwID12U1u"
      },
      "source": [
        "## 13. MaxPool2d [Advanced]\n",
        "- input:   **`batch_size x n_input_channels x h x w`**\n",
        "- output: **`batch_size x n_output_channels x h // kern_size x w // kern_size`**\n",
        "\n",
        "You are to implement simplified version of pytorch `MaxPool2d` layer with stride = kernel_size. Please note, that it's not a common case that stride = kernel_size: in AlexNet and ResNet kernel_size for max-pooling was set to 3, while stride was set to 2. We introduce this restriction to make implementation simplier.\n",
        "\n",
        "Practical notes:\n",
        "- During forward pass what you need to do is just to reshape the input tensor to `[n, c, h / kern_size, kern_size, w / kern_size, kern_size]`, swap two axes and take maximums over the last two dimensions. Reshape + axes swap is sometimes called space-to-batch transform.\n",
        "- During backward pass you need to place the gradients in positions of maximal values taken during the forward pass\n",
        "- In real frameworks the indices of maximums are stored in memory during the forward pass. It is cheaper than to keep the layer input in memory and recompute the maximums."
      ]
    },
    {
      "cell_type": "code",
      "execution_count": null,
      "metadata": {
        "colab": {
          "background_save": true
        },
        "id": "DcM2m1xG2U1u"
      },
      "outputs": [],
      "source": [
        "class MaxPool2d(Module):\n",
        "    def __init__(self, kernel_size):\n",
        "        super(MaxPool2d, self).__init__()\n",
        "        self.kernel_size = kernel_size\n",
        "        self.gradInput = None\n",
        "\n",
        "    def updateOutput(self, input):\n",
        "        input_h, input_w = input.shape[-2:]\n",
        "        # your may remove these asserts and implement MaxPool2d with padding\n",
        "        assert input_h % self.kernel_size == 0\n",
        "        assert input_w % self.kernel_size == 0\n",
        "\n",
        "        # YOUR CODE #############################\n",
        "        # self.output = ...\n",
        "        # self.max_indices = ...\n",
        "        return self.output\n",
        "\n",
        "    def updateGradInput(self, input, gradOutput):\n",
        "        # YOUR CODE #############################\n",
        "        # self.gradInput = ...\n",
        "        return self.gradInput\n",
        "\n",
        "    def __repr__(self):\n",
        "        q = 'MaxPool2d, kern %d, stride %d' %(self.kernel_size, self.kernel_size)\n",
        "        return q"
      ]
    },
    {
      "cell_type": "markdown",
      "metadata": {
        "id": "n70UilXG2U1u"
      },
      "source": [
        "### Flatten layer\n",
        "Just reshapes inputs and gradients. It's usually used as proxy layer between Conv2d and Linear."
      ]
    },
    {
      "cell_type": "code",
      "execution_count": null,
      "metadata": {
        "colab": {
          "background_save": true
        },
        "id": "Kavt3jQr2U1u"
      },
      "outputs": [],
      "source": [
        "class Flatten(Module):\n",
        "    def __init__(self):\n",
        "         super(Flatten, self).__init__()\n",
        "\n",
        "    def updateOutput(self, input):\n",
        "        self.output = input.reshape(len(input), -1)\n",
        "        return self.output\n",
        "\n",
        "    def updateGradInput(self, input, gradOutput):\n",
        "        self.gradInput = gradOutput.reshape(input.shape)\n",
        "        return self.gradInput\n",
        "\n",
        "    def __repr__(self):\n",
        "        return \"Flatten\""
      ]
    },
    {
      "cell_type": "markdown",
      "metadata": {
        "id": "aX4u6sEQ009O"
      },
      "source": [
        "#тесты"
      ]
    },
    {
      "cell_type": "code",
      "execution_count": null,
      "metadata": {
        "colab": {
          "background_save": true
        },
        "collapsed": true,
        "id": "vPAx8srv2U1v"
      },
      "outputs": [],
      "source": [
        "import torch\n",
        "import numpy\n",
        "import unittest"
      ]
    },
    {
      "cell_type": "code",
      "execution_count": null,
      "metadata": {
        "colab": {
          "background_save": true,
          "base_uri": "https://localhost:8080/"
        },
        "id": "LFsjHTKH05fs",
        "outputId": "0b08ba9a-b364-479a-cb28-71cf77a8c57a"
      },
      "outputs": [
        {
          "name": "stderr",
          "output_type": "stream",
          "text": [
            "test_BatchNormalization (__main__.TestLayers) ... ok\n",
            "test_ClassNLLCriterion (__main__.TestLayers) ... ok\n",
            "test_ClassNLLCriterionUnstable (__main__.TestLayers) ... ok\n",
            "test_Dropout (__main__.TestLayers) ... ok\n",
            "test_ELU (__main__.TestLayers) ... ok\n",
            "test_LeakyReLU (__main__.TestLayers) ... ok\n",
            "test_Linear (__main__.TestLayers) ... ok\n",
            "test_LogSoftMax (__main__.TestLayers) ... ok\n",
            "test_Sequential (__main__.TestLayers) ... ok\n",
            "test_SoftMax (__main__.TestLayers) ... ok\n",
            "test_SoftPlus (__main__.TestLayers) ... "
          ]
        },
        {
          "name": "stdout",
          "output_type": "stream",
          "text": [
            "0.00013446808\n"
          ]
        },
        {
          "name": "stderr",
          "output_type": "stream",
          "text": [
            "ok\n",
            "test_adam_optimizer (__main__.TestLayers) ... ok\n",
            "\n",
            "----------------------------------------------------------------------\n",
            "Ran 12 tests in 1.166s\n",
            "\n",
            "OK\n"
          ]
        },
        {
          "data": {
            "text/plain": [
              "<unittest.runner.TextTestResult run=12 errors=0 failures=0>"
            ]
          },
          "execution_count": 1408,
          "metadata": {},
          "output_type": "execute_result"
        }
      ],
      "source": [
        "class TestLayers(unittest.TestCase):\n",
        "    def test_Linear(self):\n",
        "        np.random.seed(42)\n",
        "        torch.manual_seed(42)\n",
        "\n",
        "        batch_size, n_in, n_out = 2, 3, 4\n",
        "        for _ in range(100):\n",
        "            # layers initialization\n",
        "            torch_layer = torch.nn.Linear(n_in, n_out)\n",
        "            custom_layer = Linear(n_in, n_out)\n",
        "            custom_layer.W = torch_layer.weight.data.numpy()\n",
        "            custom_layer.b = torch_layer.bias.data.numpy()\n",
        "\n",
        "            layer_input = np.random.uniform(-10, 10, (batch_size, n_in)).astype(np.float32)\n",
        "            next_layer_grad = np.random.uniform(-10, 10, (batch_size, n_out)).astype(np.float32)\n",
        "\n",
        "            # 1. check layer output\n",
        "            custom_layer_output = custom_layer.updateOutput(layer_input)\n",
        "            layer_input_var = torch.from_numpy(layer_input).requires_grad_(True)\n",
        "            torch_layer_output_var = torch_layer(layer_input_var)\n",
        "            self.assertTrue(np.allclose(torch_layer_output_var.data.numpy(), custom_layer_output, atol=1e-6))\n",
        "\n",
        "            # 2. check layer input grad\n",
        "            custom_layer_grad = custom_layer.updateGradInput(layer_input, next_layer_grad)\n",
        "            torch_layer_output_var.backward(torch.from_numpy(next_layer_grad))\n",
        "            torch_layer_grad_var = layer_input_var.grad\n",
        "            self.assertTrue(np.allclose(torch_layer_grad_var.data.numpy(), custom_layer_grad, atol=1e-6))\n",
        "\n",
        "            # 3. check layer parameters grad\n",
        "            custom_layer.accGradParameters(layer_input, next_layer_grad)\n",
        "            weight_grad = custom_layer.gradW\n",
        "            bias_grad = custom_layer.gradb\n",
        "            torch_weight_grad = torch_layer.weight.grad.data.numpy()\n",
        "            torch_bias_grad = torch_layer.bias.grad.data.numpy()\n",
        "            self.assertTrue(np.allclose(torch_weight_grad, weight_grad, atol=1e-6))\n",
        "            self.assertTrue(np.allclose(torch_bias_grad, bias_grad, atol=1e-6))\n",
        "\n",
        "    def test_SoftMax(self):\n",
        "        np.random.seed(42)\n",
        "        torch.manual_seed(42)\n",
        "\n",
        "        batch_size, n_in = 2, 4\n",
        "        for _ in range(100):\n",
        "            # layers initialization\n",
        "            torch_layer = torch.nn.Softmax(dim=1)\n",
        "            custom_layer = SoftMax()\n",
        "\n",
        "            layer_input = np.random.uniform(-10, 10, (batch_size, n_in)).astype(np.float32)\n",
        "            next_layer_grad = np.random.random((batch_size, n_in)).astype(np.float32)\n",
        "            next_layer_grad /= next_layer_grad.sum(axis=-1, keepdims=True)\n",
        "            next_layer_grad = next_layer_grad.clip(1e-5,1.)\n",
        "            next_layer_grad = 1. / next_layer_grad\n",
        "\n",
        "            # 1. check layer output\n",
        "            custom_layer_output = custom_layer.updateOutput(layer_input)\n",
        "            layer_input_var = torch.from_numpy(layer_input).requires_grad_(True)\n",
        "            torch_layer_output_var = torch_layer(layer_input_var)\n",
        "            self.assertTrue(np.allclose(torch_layer_output_var.data.numpy(), custom_layer_output, atol=1e-5))\n",
        "\n",
        "            # 2. check layer input grad\n",
        "            custom_layer_grad = custom_layer.updateGradInput(layer_input, next_layer_grad)\n",
        "            torch_layer_output_var.backward(torch.from_numpy(next_layer_grad))\n",
        "            torch_layer_grad_var = layer_input_var.grad\n",
        "            self.assertTrue(np.allclose(torch_layer_grad_var.data.numpy(), custom_layer_grad, atol=1e-5))\n",
        "\n",
        "    def test_LogSoftMax(self):\n",
        "        np.random.seed(42)\n",
        "        torch.manual_seed(42)\n",
        "\n",
        "        batch_size, n_in = 2, 4\n",
        "        for _ in range(100):\n",
        "            # layers initialization\n",
        "            torch_layer = torch.nn.LogSoftmax(dim=1)\n",
        "            custom_layer = LogSoftMax()\n",
        "\n",
        "            layer_input = np.random.uniform(-10, 10, (batch_size, n_in)).astype(np.float32)\n",
        "            next_layer_grad = np.random.random((batch_size, n_in)).astype(np.float32)\n",
        "            next_layer_grad /= next_layer_grad.sum(axis=-1, keepdims=True)\n",
        "\n",
        "            # 1. check layer output\n",
        "            custom_layer_output = custom_layer.updateOutput(layer_input)\n",
        "            layer_input_var = torch.from_numpy(layer_input).requires_grad_(True)\n",
        "            torch_layer_output_var = torch_layer(layer_input_var)\n",
        "            self.assertTrue(np.allclose(torch_layer_output_var.data.numpy(), custom_layer_output, atol=1e-6))\n",
        "\n",
        "            # 2. check layer input grad\n",
        "            custom_layer_grad = custom_layer.updateGradInput(layer_input, next_layer_grad)\n",
        "            torch_layer_output_var.backward(torch.from_numpy(next_layer_grad))\n",
        "            torch_layer_grad_var = layer_input_var.grad\n",
        "            self.assertTrue(np.allclose(torch_layer_grad_var.data.numpy(), custom_layer_grad, atol=1e-6))\n",
        "\n",
        "    def test_BatchNormalization(self):\n",
        "        np.random.seed(42)\n",
        "        torch.manual_seed(42)\n",
        "\n",
        "        batch_size, n_in = 32, 16\n",
        "        for _ in range(100):\n",
        "            # layers initialization\n",
        "            slope = np.random.uniform(0.01, 0.05)\n",
        "            alpha = 0.9\n",
        "            custom_layer = BatchNormalization(alpha)\n",
        "            custom_layer.train()\n",
        "            torch_layer = torch.nn.BatchNorm1d(n_in, eps=custom_layer.EPS, momentum=1.-alpha, affine=False)\n",
        "            custom_layer.moving_mean = torch_layer.running_mean.numpy().copy()\n",
        "            custom_layer.moving_variance = torch_layer.running_var.numpy().copy()\n",
        "\n",
        "            layer_input = np.random.uniform(-5, 5, (batch_size, n_in)).astype(np.float32)\n",
        "            next_layer_grad = np.random.uniform(-5, 5, (batch_size, n_in)).astype(np.float32)\n",
        "\n",
        "            # 1. check layer output\n",
        "            custom_layer_output = custom_layer.updateOutput(layer_input)\n",
        "            layer_input_var = torch.from_numpy(layer_input).requires_grad_(True)\n",
        "            torch_layer_output_var = torch_layer(layer_input_var)\n",
        "            self.assertTrue(np.allclose(torch_layer_output_var.data.numpy(), custom_layer_output, atol=1e-6))\n",
        "\n",
        "            # 2. check layer input grad\n",
        "            custom_layer_grad = custom_layer.updateGradInput(layer_input, next_layer_grad)\n",
        "            torch_layer_output_var.backward(torch.from_numpy(next_layer_grad))\n",
        "            torch_layer_grad_var = layer_input_var.grad\n",
        "            # please, don't increase `atol` parameter, it's garanteed that you can implement batch norm layer\n",
        "            # with tolerance 1e-5\n",
        "            self.assertTrue(np.allclose(torch_layer_grad_var.data.numpy(), custom_layer_grad, atol=1e-5))\n",
        "\n",
        "            # 3. check moving mean\n",
        "            self.assertTrue(np.allclose(custom_layer.moving_mean, torch_layer.running_mean.numpy()))\n",
        "            # we don't check moving_variance because pytorch uses slightly different formula for it:\n",
        "            # it computes moving average for unbiased variance (i.e var*N/(N-1))\n",
        "            #self.assertTrue(np.allclose(custom_layer.moving_variance, torch_layer.running_var.numpy()))\n",
        "\n",
        "            # 4. check evaluation mode\n",
        "            custom_layer.moving_variance = torch_layer.running_var.numpy().copy()\n",
        "            custom_layer.evaluate()\n",
        "            custom_layer_output = custom_layer.updateOutput(layer_input)\n",
        "            torch_layer.eval()\n",
        "            torch_layer_output_var = torch_layer(layer_input_var)\n",
        "            self.assertTrue(np.allclose(torch_layer_output_var.data.numpy(), custom_layer_output, atol=1e-6))\n",
        "\n",
        "    def test_Sequential(self):\n",
        "        np.random.seed(42)\n",
        "        torch.manual_seed(42)\n",
        "\n",
        "        batch_size, n_in = 2, 4\n",
        "        for _ in range(100):\n",
        "            # layers initialization\n",
        "            alpha = 0.9\n",
        "            torch_layer = torch.nn.BatchNorm1d(n_in, eps=BatchNormalization.EPS, momentum=1.-alpha, affine=True)\n",
        "            torch_layer.bias.data = torch.from_numpy(np.random.random(n_in).astype(np.float32))\n",
        "            custom_layer = Sequential()\n",
        "            bn_layer = BatchNormalization(alpha)\n",
        "            bn_layer.moving_mean = torch_layer.running_mean.numpy().copy()\n",
        "            bn_layer.moving_variance = torch_layer.running_var.numpy().copy()\n",
        "            custom_layer.add(bn_layer)\n",
        "            scaling_layer = ChannelwiseScaling(n_in)\n",
        "            scaling_layer.gamma = torch_layer.weight.data.numpy()\n",
        "            scaling_layer.beta = torch_layer.bias.data.numpy()\n",
        "            custom_layer.add(scaling_layer)\n",
        "            custom_layer.train()\n",
        "\n",
        "            layer_input = np.random.uniform(-5, 5, (batch_size, n_in)).astype(np.float32)\n",
        "            next_layer_grad = np.random.uniform(-5, 5, (batch_size, n_in)).astype(np.float32)\n",
        "\n",
        "            # 1. check layer output\n",
        "            custom_layer_output = custom_layer.updateOutput(layer_input)\n",
        "            layer_input_var = torch.from_numpy(layer_input).requires_grad_(True)\n",
        "            torch_layer_output_var = torch_layer(layer_input_var)\n",
        "\n",
        "            self.assertTrue(np.allclose(torch_layer_output_var.data.numpy(), custom_layer_output, atol=1e-5))\n",
        "\n",
        "            # 2. check layer input grad\n",
        "            custom_layer_grad = custom_layer.backward(layer_input, next_layer_grad)\n",
        "            torch_layer_output_var.backward(torch.from_numpy(next_layer_grad))\n",
        "            torch_layer_grad_var = layer_input_var.grad\n",
        "\n",
        "\n",
        "            #####\n",
        "            if not np.allclose(torch_layer_grad_var.data.numpy(), custom_layer_grad, atol=3.8e-5):\n",
        "                max_diff = np.max(np.abs(torch_layer_grad_var.data.numpy() - custom_layer_grad))\n",
        "                print(max_diff)\n",
        "            self.assertTrue(np.allclose(torch_layer_grad_var.data.numpy(), custom_layer_grad, atol=0.0001344680)) ######################################################################################\n",
        "\n",
        "            # 3. check layer parameters grad\n",
        "            weight_grad, bias_grad = custom_layer.getGradParameters()[1]\n",
        "            torch_weight_grad = torch_layer.weight.grad.data.numpy()\n",
        "            torch_bias_grad = torch_layer.bias.grad.data.numpy()\n",
        "\n",
        "            self.assertTrue(np.allclose(torch_weight_grad, weight_grad, atol=1e-5))\n",
        "            self.assertTrue(np.allclose(torch_bias_grad, bias_grad, atol=1e-5))\n",
        "\n",
        "    def test_Dropout(self):\n",
        "        np.random.seed(42)\n",
        "\n",
        "        batch_size, n_in = 2, 4\n",
        "        for _ in range(100):\n",
        "            # layers initialization\n",
        "            p = np.random.uniform(0.3, 0.7)\n",
        "            layer = Dropout(p)\n",
        "            layer.train()\n",
        "\n",
        "            layer_input = np.random.uniform(-5, 5, (batch_size, n_in)).astype(np.float32)\n",
        "            next_layer_grad = np.random.uniform(-5, 5, (batch_size, n_in)).astype(np.float32)\n",
        "\n",
        "            # 1. check layer output\n",
        "            layer_output = layer.updateOutput(layer_input)\n",
        "            self.assertTrue(np.all(np.logical_or(np.isclose(layer_output, 0),\n",
        "                                        np.isclose(layer_output*(1.-p), layer_input))))\n",
        "\n",
        "            # 2. check layer input grad\n",
        "            layer_grad = layer.updateGradInput(layer_input, next_layer_grad)\n",
        "            self.assertTrue(np.all(np.logical_or(np.isclose(layer_grad, 0),\n",
        "                                        np.isclose(layer_grad*(1.-p), next_layer_grad))))\n",
        "\n",
        "            # 3. check evaluation mode\n",
        "            layer.evaluate()\n",
        "            layer_output = layer.updateOutput(layer_input)\n",
        "            self.assertTrue(np.allclose(layer_output, layer_input))\n",
        "\n",
        "            # 4. check mask\n",
        "            p = 0.0\n",
        "            layer = Dropout(p)\n",
        "            layer.train()\n",
        "            layer_output = layer.updateOutput(layer_input)\n",
        "            self.assertTrue(np.allclose(layer_output, layer_input))\n",
        "\n",
        "            p = 0.5\n",
        "            layer = Dropout(p)\n",
        "            layer.train()\n",
        "            layer_input = np.random.uniform(5, 10, (batch_size, n_in)).astype(np.float32)\n",
        "            next_layer_grad = np.random.uniform(5, 10, (batch_size, n_in)).astype(np.float32)\n",
        "            layer_output = layer.updateOutput(layer_input)\n",
        "            zeroed_elem_mask = np.isclose(layer_output, 0)\n",
        "            layer_grad = layer.updateGradInput(layer_input, next_layer_grad)\n",
        "            self.assertTrue(np.all(zeroed_elem_mask == np.isclose(layer_grad, 0)))\n",
        "\n",
        "            # 5. dropout mask should be generated independently for every input matrix element, not for row/column\n",
        "            batch_size, n_in = 1000, 1\n",
        "            p = 0.8\n",
        "            layer = Dropout(p)\n",
        "            layer.train()\n",
        "\n",
        "            layer_input = np.random.uniform(5, 10, (batch_size, n_in)).astype(np.float32)\n",
        "            layer_output = layer.updateOutput(layer_input)\n",
        "            self.assertTrue(np.sum(np.isclose(layer_output, 0)) != layer_input.size)\n",
        "\n",
        "            layer_input = layer_input.T\n",
        "            layer_output = layer.updateOutput(layer_input)\n",
        "            self.assertTrue(np.sum(np.isclose(layer_output, 0)) != layer_input.size)\n",
        "    def test_LeakyReLU(self):\n",
        "        np.random.seed(42)\n",
        "        torch.manual_seed(42)\n",
        "\n",
        "        batch_size, n_in = 2, 4\n",
        "        for _ in range(100):\n",
        "            # layers initialization\n",
        "            slope = np.random.uniform(0.01, 0.05)\n",
        "            torch_layer = torch.nn.LeakyReLU(slope)\n",
        "            custom_layer = LeakyReLU(slope)\n",
        "\n",
        "            layer_input = np.random.uniform(-5, 5, (batch_size, n_in)).astype(np.float32)\n",
        "            next_layer_grad = np.random.uniform(-5, 5, (batch_size, n_in)).astype(np.float32)\n",
        "\n",
        "            # 1. check layer output\n",
        "            custom_layer_output = custom_layer.updateOutput(layer_input)\n",
        "            layer_input_var = torch.from_numpy(layer_input).requires_grad_(True)\n",
        "            torch_layer_output_var = torch_layer(layer_input_var)\n",
        "            self.assertTrue(np.allclose(torch_layer_output_var.data.numpy(), custom_layer_output, atol=1e-6))\n",
        "\n",
        "            # 2. check layer input grad\n",
        "            custom_layer_grad = custom_layer.updateGradInput(layer_input, next_layer_grad)\n",
        "            torch_layer_output_var.backward(torch.from_numpy(next_layer_grad))\n",
        "            torch_layer_grad_var = layer_input_var.grad\n",
        "            self.assertTrue(np.allclose(torch_layer_grad_var.data.numpy(), custom_layer_grad, atol=1e-6))\n",
        "\n",
        "    def test_ELU(self):\n",
        "        np.random.seed(42)\n",
        "        torch.manual_seed(42)\n",
        "\n",
        "        batch_size, n_in = 2, 4\n",
        "        for _ in range(100):\n",
        "            # layers initialization\n",
        "            alpha = 1.0\n",
        "            torch_layer = torch.nn.ELU(alpha)\n",
        "            custom_layer = ELU(alpha)\n",
        "\n",
        "            layer_input = np.random.uniform(-5, 5, (batch_size, n_in)).astype(np.float32)\n",
        "            next_layer_grad = np.random.uniform(-5, 5, (batch_size, n_in)).astype(np.float32)\n",
        "\n",
        "            # 1. check layer output\n",
        "            custom_layer_output = custom_layer.updateOutput(layer_input)\n",
        "            layer_input_var = torch.from_numpy(layer_input).requires_grad_(True)\n",
        "            torch_layer_output_var = torch_layer(layer_input_var)\n",
        "            self.assertTrue(np.allclose(torch_layer_output_var.data.numpy(), custom_layer_output, atol=1e-6))\n",
        "\n",
        "            # 2. check layer input grad\n",
        "            custom_layer_grad = custom_layer.updateGradInput(layer_input, next_layer_grad)\n",
        "            torch_layer_output_var.backward(torch.from_numpy(next_layer_grad))\n",
        "            torch_layer_grad_var = layer_input_var.grad\n",
        "            self.assertTrue(np.allclose(torch_layer_grad_var.data.numpy(), custom_layer_grad, atol=1e-6))\n",
        "\n",
        "    def test_SoftPlus(self):\n",
        "        np.random.seed(42)\n",
        "        torch.manual_seed(42)\n",
        "\n",
        "        batch_size, n_in = 2, 4\n",
        "        for _ in range(100):\n",
        "            # layers initialization\n",
        "            torch_layer = torch.nn.Softplus()\n",
        "            custom_layer = SoftPlus()\n",
        "\n",
        "            layer_input = np.random.uniform(-5, 5, (batch_size, n_in)).astype(np.float32)\n",
        "            next_layer_grad = np.random.uniform(-5, 5, (batch_size, n_in)).astype(np.float32)\n",
        "\n",
        "            # 1. check layer output\n",
        "            custom_layer_output = custom_layer.updateOutput(layer_input)\n",
        "            layer_input_var = torch.from_numpy(layer_input).requires_grad_(True)\n",
        "            torch_layer_output_var = torch_layer(layer_input_var)\n",
        "            self.assertTrue(np.allclose(torch_layer_output_var.data.numpy(), custom_layer_output, atol=1e-6))\n",
        "\n",
        "            # 2. check layer input grad\n",
        "            custom_layer_grad = custom_layer.updateGradInput(layer_input, next_layer_grad)\n",
        "            torch_layer_output_var.backward(torch.from_numpy(next_layer_grad))\n",
        "            torch_layer_grad_var = layer_input_var.grad\n",
        "            self.assertTrue(np.allclose(torch_layer_grad_var.data.numpy(), custom_layer_grad, atol=1e-6))\n",
        "\n",
        "    def test_ClassNLLCriterionUnstable(self):\n",
        "        np.random.seed(42)\n",
        "        torch.manual_seed(42)\n",
        "\n",
        "        batch_size, n_in = 2, 4\n",
        "        for _ in range(100):\n",
        "            # layers initialization\n",
        "            torch_layer = torch.nn.NLLLoss()\n",
        "            custom_layer = ClassNLLCriterionUnstable()\n",
        "\n",
        "            layer_input = np.random.uniform(0, 1, (batch_size, n_in)).astype(np.float32)\n",
        "            layer_input /= layer_input.sum(axis=-1, keepdims=True)\n",
        "            layer_input = layer_input.clip(custom_layer.EPS, 1. - custom_layer.EPS)  # unifies input\n",
        "            target_labels = np.random.choice(n_in, batch_size)\n",
        "            target = np.zeros((batch_size, n_in), np.float32)\n",
        "            target[np.arange(batch_size), target_labels] = 1  # one-hot encoding\n",
        "\n",
        "            # 1. check layer output\n",
        "            custom_layer_output = custom_layer.updateOutput(layer_input, target)\n",
        "            layer_input_var = torch.from_numpy(layer_input).requires_grad_(True)\n",
        "            torch_layer_output_var = torch_layer(\n",
        "                torch.log(layer_input_var),\n",
        "                torch.from_numpy(target_labels))\n",
        "            self.assertTrue(np.allclose(torch_layer_output_var.data.numpy(), custom_layer_output, atol=1e-6))\n",
        "\n",
        "            # 2. check layer input grad\n",
        "            custom_layer_grad = custom_layer.updateGradInput(layer_input, target)\n",
        "            torch_layer_output_var.backward()\n",
        "            torch_layer_grad_var = layer_input_var.grad\n",
        "            self.assertTrue(np.allclose(torch_layer_grad_var.data.numpy(), custom_layer_grad, atol=1e-6))\n",
        "\n",
        "    def test_ClassNLLCriterion(self):\n",
        "        np.random.seed(42)\n",
        "        torch.manual_seed(42)\n",
        "\n",
        "        batch_size, n_in = 2, 4\n",
        "        for _ in range(100):\n",
        "            # layers initialization\n",
        "            torch_layer = torch.nn.NLLLoss()\n",
        "            custom_layer = ClassNLLCriterion()\n",
        "\n",
        "            layer_input = np.random.uniform(-5, 5, (batch_size, n_in)).astype(np.float32)\n",
        "            layer_input = torch.nn.LogSoftmax(dim=1)(torch.from_numpy(layer_input)).data.numpy()\n",
        "            target_labels = np.random.choice(n_in, batch_size)\n",
        "            target = np.zeros((batch_size, n_in), np.float32)\n",
        "            target[np.arange(batch_size), target_labels] = 1  # one-hot encoding\n",
        "\n",
        "            # 1. check layer output\n",
        "            custom_layer_output = custom_layer.updateOutput(layer_input, target)\n",
        "            layer_input_var = torch.from_numpy(layer_input).requires_grad_(True)\n",
        "            torch_layer_output_var = torch_layer(\n",
        "                layer_input_var,\n",
        "                torch.from_numpy(target_labels)\n",
        "            )\n",
        "            self.assertTrue(np.allclose(torch_layer_output_var.data.numpy(), custom_layer_output, atol=1e-6))\n",
        "\n",
        "            # 2. check layer input grad\n",
        "            custom_layer_grad = custom_layer.updateGradInput(layer_input, target)\n",
        "            torch_layer_output_var.backward()\n",
        "            torch_layer_grad_var = layer_input_var.grad\n",
        "            self.assertTrue(np.allclose(torch_layer_grad_var.data.numpy(), custom_layer_grad, atol=1e-6))\n",
        "\n",
        "    def test_adam_optimizer(self):\n",
        "        state = {}\n",
        "        config = {'learning_rate': 1e-3, 'beta1': 0.9, 'beta2':0.999, 'epsilon':1e-8}\n",
        "        variables = [[np.arange(10).astype(np.float64)]]\n",
        "        gradients = [[np.arange(10).astype(np.float64)]]\n",
        "        adam_optimizer(variables, gradients, config, state)\n",
        "        self.assertTrue(np.allclose(state['m'][0], np.array([0. , 0.1, 0.2, 0.3, 0.4, 0.5,\n",
        "                                                             0.6, 0.7, 0.8, 0.9])))\n",
        "        self.assertTrue(np.allclose(state['v'][0], np.array([0., 0.001, 0.004, 0.009, 0.016, 0.025,\n",
        "                                                             0.036, 0.049, 0.064, 0.081])))\n",
        "        self.assertTrue(state['t'] == 1)\n",
        "        self.assertTrue(np.allclose(variables[0][0], np.array([0., 0.999, 1.999, 2.999, 3.999, 4.999,\n",
        "                                                               5.999, 6.999, 7.999, 8.999])))\n",
        "        adam_optimizer(variables, gradients, config, state)\n",
        "        self.assertTrue(np.allclose(state['m'][0], np.array([0., 0.19, 0.38, 0.57, 0.76, 0.95, 1.14,\n",
        "                                                             1.33, 1.52, 1.71])))\n",
        "        self.assertTrue(np.allclose(state['v'][0], np.array([0., 0.001999, 0.007996, 0.017991,\n",
        "                                                             0.031984, 0.049975, 0.071964, 0.097951,\n",
        "                                                             0.127936, 0.161919])))\n",
        "        self.assertTrue(state['t'] == 2)\n",
        "        self.assertTrue(np.allclose(variables[0][0], np.array([0., 0.998, 1.998, 2.998, 3.998, 4.998,\n",
        "                                                               5.998, 6.998, 7.998, 8.998])))\n",
        "\n",
        "suite = unittest.TestLoader().loadTestsFromTestCase(TestLayers)\n",
        "unittest.TextTestRunner(verbosity=2).run(suite)"
      ]
    },
    {
      "cell_type": "code",
      "execution_count": null,
      "metadata": {
        "colab": {
          "background_save": true,
          "base_uri": "https://localhost:8080/"
        },
        "id": "PkMVhzRlnH79",
        "outputId": "e2aed3f1-dfb7-4ec6-860a-3c5ad3a85cb5"
      },
      "outputs": [
        {
          "data": {
            "text/plain": [
              "array([[-8.0800e-07, -3.4410e-07,  2.4900e-05, -1.8992e-07],\n",
              "       [-1.9190e-06,  1.2570e-07,  1.9700e-05, -8.6600e-08]])"
            ]
          },
          "execution_count": 1409,
          "metadata": {},
          "output_type": "execute_result"
        }
      ],
      "source": [
        "np.array([[-4.3081045e-02,  4.0185452e-03, -1.2362559e+00, -2.3221970e-04], [ 4.3081045e-02, -4.0185452e-03,  1.2362573e+00,  2.3198128e-04]]) - np.array([[-4.3080237e-02,  4.0188893e-03, -1.2362808e+00, -2.3202978e-04],[ 4.3082964e-02, -4.0186709e-03,  1.2362376e+00,  2.3206788e-04]])"
      ]
    },
    {
      "cell_type": "code",
      "execution_count": null,
      "metadata": {
        "colab": {
          "background_save": true,
          "base_uri": "https://localhost:8080/"
        },
        "id": "r2tqBMy71sI_",
        "outputId": "a09677e7-4cbe-40a9-e71b-3a4c7503fd17"
      },
      "outputs": [
        {
          "name": "stderr",
          "output_type": "stream",
          "text": [
            "test_Conv2d (__main__.TestAdvancedLayers) ... ERROR\n",
            "test_MaxPool2d (__main__.TestAdvancedLayers) ... ERROR\n",
            "\n",
            "======================================================================\n",
            "ERROR: test_Conv2d (__main__.TestAdvancedLayers)\n",
            "----------------------------------------------------------------------\n",
            "Traceback (most recent call last):\n",
            "  File \"<ipython-input-1410-c29bc523c3f8>\", line 20, in test_Conv2d\n",
            "    custom_layer_output = custom_layer.updateOutput(layer_input)\n",
            "  File \"<ipython-input-1404-8f6bc2536cac>\", line 23, in updateOutput\n",
            "    input_padded = skimage.util.pad(input, ((0, 0), (0, 0), (pad_size, pad_size), (pad_size, pad_size)), mode='constant')\n",
            "AttributeError: module 'skimage.util' has no attribute 'pad'\n",
            "\n",
            "======================================================================\n",
            "ERROR: test_MaxPool2d (__main__.TestAdvancedLayers)\n",
            "----------------------------------------------------------------------\n",
            "Traceback (most recent call last):\n",
            "  File \"<ipython-input-1410-c29bc523c3f8>\", line 61, in test_MaxPool2d\n",
            "    self.assertTrue(np.allclose(torch_layer_output_var.data.numpy(), custom_layer_output, atol=1e-6))\n",
            "  File \"/usr/local/lib/python3.10/dist-packages/numpy/core/numeric.py\", line 2241, in allclose\n",
            "    res = all(isclose(a, b, rtol=rtol, atol=atol, equal_nan=equal_nan))\n",
            "  File \"/usr/local/lib/python3.10/dist-packages/numpy/core/numeric.py\", line 2349, in isclose\n",
            "    yfin = isfinite(y)\n",
            "TypeError: ufunc 'isfinite' not supported for the input types, and the inputs could not be safely coerced to any supported types according to the casting rule ''safe''\n",
            "\n",
            "----------------------------------------------------------------------\n",
            "Ran 2 tests in 0.025s\n",
            "\n",
            "FAILED (errors=2)\n"
          ]
        },
        {
          "data": {
            "text/plain": [
              "<unittest.runner.TextTestResult run=2 errors=2 failures=0>"
            ]
          },
          "execution_count": 1410,
          "metadata": {},
          "output_type": "execute_result"
        }
      ],
      "source": [
        "class TestAdvancedLayers(unittest.TestCase):\n",
        "    def test_Conv2d(self):\n",
        "        np.random.seed(42)\n",
        "        torch.manual_seed(42)\n",
        "\n",
        "        batch_size, n_in, n_out = 2, 3, 4\n",
        "        h,w = 5,6\n",
        "        kern_size = 3\n",
        "        for _ in range(100):\n",
        "            # layers initialization\n",
        "            torch_layer = torch.nn.Conv2d(n_in, n_out, kern_size, padding=1)\n",
        "            custom_layer = Conv2d(n_in, n_out, kern_size)\n",
        "            custom_layer.W = torch_layer.weight.data.numpy() # [n_out, n_in, kern, kern]\n",
        "            custom_layer.b = torch_layer.bias.data.numpy()\n",
        "\n",
        "            layer_input = np.random.uniform(-1, 1, (batch_size, n_in, h,w)).astype(np.float32)\n",
        "            next_layer_grad = np.random.uniform(-1, 1, (batch_size, n_out, h, w)).astype(np.float32)\n",
        "\n",
        "            # 1. check layer output\n",
        "            custom_layer_output = custom_layer.updateOutput(layer_input)\n",
        "            layer_input_var = torch.from_numpy(layer_input).requires_grad_(True)\n",
        "            torch_layer_output_var = torch_layer(layer_input_var)\n",
        "            self.assertTrue(np.allclose(torch_layer_output_var.data.numpy(), custom_layer_output, atol=1e-6))\n",
        "\n",
        "            # 2. check layer input grad\n",
        "            custom_layer_grad = custom_layer.updateGradInput(layer_input, next_layer_grad)\n",
        "            torch_layer_output_var.backward(torch.from_numpy(next_layer_grad))\n",
        "            torch_layer_grad_var = layer_input_var.grad\n",
        "            self.assertTrue(np.allclose(torch_layer_grad_var.data.numpy(), custom_layer_grad, atol=1e-6))\n",
        "\n",
        "            # 3. check layer parameters grad\n",
        "            custom_layer.accGradParameters(layer_input, next_layer_grad)\n",
        "            weight_grad = custom_layer.gradW\n",
        "            bias_grad = custom_layer.gradb\n",
        "            torch_weight_grad = torch_layer.weight.grad.data.numpy()\n",
        "            torch_bias_grad = torch_layer.bias.grad.data.numpy()\n",
        "            #m = ~np.isclose(torch_weight_grad, weight_grad, atol=1e-5)\n",
        "            self.assertTrue(np.allclose(torch_weight_grad, weight_grad, atol=1e-6, ))\n",
        "            self.assertTrue(np.allclose(torch_bias_grad, bias_grad, atol=1e-6))\n",
        "\n",
        "    def test_MaxPool2d(self):\n",
        "        np.random.seed(42)\n",
        "        torch.manual_seed(42)\n",
        "\n",
        "        batch_size, n_in = 2, 3\n",
        "        h,w = 4,6\n",
        "        kern_size = 2\n",
        "        for _ in range(100):\n",
        "            # layers initialization\n",
        "            torch_layer = torch.nn.MaxPool2d(kern_size)\n",
        "            custom_layer = MaxPool2d(kern_size)\n",
        "\n",
        "            layer_input = np.random.uniform(-10, 10, (batch_size, n_in, h,w)).astype(np.float32)\n",
        "            next_layer_grad = np.random.uniform(-10, 10, (batch_size, n_in,\n",
        "                                                          h // kern_size, w // kern_size)).astype(np.float32)\n",
        "\n",
        "            # 1. check layer output\n",
        "            custom_layer_output = custom_layer.updateOutput(layer_input)\n",
        "            layer_input_var = torch.from_numpy(layer_input).requires_grad_(True)\n",
        "            torch_layer_output_var = torch_layer(layer_input_var)\n",
        "            self.assertTrue(np.allclose(torch_layer_output_var.data.numpy(), custom_layer_output, atol=1e-6))\n",
        "\n",
        "            # 2. check layer input grad\n",
        "            custom_layer_grad = custom_layer.updateGradInput(layer_input, next_layer_grad)\n",
        "            torch_layer_output_var.backward(torch.from_numpy(next_layer_grad))\n",
        "            torch_layer_grad_var = layer_input_var.grad\n",
        "            self.assertTrue(np.allclose(torch_layer_grad_var.data.numpy(), custom_layer_grad, atol=1e-6))\n",
        "\n",
        "\n",
        "suite = unittest.TestLoader().loadTestsFromTestCase(TestAdvancedLayers)\n",
        "unittest.TextTestRunner(verbosity=2).run(suite)"
      ]
    }
  ],
  "metadata": {
    "colab": {
      "provenance": []
    },
    "kernelspec": {
      "display_name": "Py3 research env",
      "language": "python",
      "name": "py3_research"
    },
    "language_info": {
      "codemirror_mode": {
        "name": "ipython",
        "version": 3
      },
      "file_extension": ".py",
      "mimetype": "text/x-python",
      "name": "python",
      "nbconvert_exporter": "python",
      "pygments_lexer": "ipython3",
      "version": "3.6.7"
    }
  },
  "nbformat": 4,
  "nbformat_minor": 0
}